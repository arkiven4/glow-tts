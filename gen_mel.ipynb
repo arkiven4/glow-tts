{
 "cells": [
  {
   "cell_type": "code",
   "execution_count": 1,
   "metadata": {},
   "outputs": [],
   "source": [
    "%matplotlib inline\n",
    "import matplotlib.pyplot as plt\n",
    "import IPython.display as ipd\n",
    "\n",
    "import librosa\n",
    "import numpy as np\n",
    "import os\n",
    "import glob\n",
    "import json\n",
    "\n",
    "import torch\n",
    "from text import text_to_sequence, cmudict\n",
    "from text.symbols import symbols\n",
    "import commons\n",
    "import attentions\n",
    "import modules\n",
    "import models\n",
    "import utils\n",
    "import shutil\n",
    "from tqdm import tqdm"
   ]
  },
  {
   "cell_type": "code",
   "execution_count": 2,
   "metadata": {},
   "outputs": [],
   "source": [
    "model_dir = \"logs/base_blank_emo_lang\"\n",
    "hps = utils.get_hparams_from_dir(model_dir)"
   ]
  },
  {
   "cell_type": "code",
   "execution_count": 3,
   "metadata": {},
   "outputs": [],
   "source": [
    "stft_fun = commons.TacotronSTFT(\n",
    "            hps.data.filter_length, hps.data.hop_length, hps.data.win_length,\n",
    "            hps.data.n_mel_channels, hps.data.sampling_rate, hps.data.mel_fmin,\n",
    "            hps.data.mel_fmax)"
   ]
  },
  {
   "cell_type": "code",
   "execution_count": 6,
   "metadata": {},
   "outputs": [],
   "source": [
    "files_array = glob.glob(\"/run/media/viblab/Markov2/Pras/Thesis/Database/VIBID/wavs/**/*.wav\")"
   ]
  },
  {
   "cell_type": "code",
   "execution_count": 9,
   "metadata": {},
   "outputs": [
    {
     "name": "stderr",
     "output_type": "stream",
     "text": [
      "100%|██████████| 4367/4367 [00:33<00:00, 128.64it/s]\n"
     ]
    }
   ],
   "source": [
    "for file in tqdm(files_array):\n",
    "    audio, sampling_rate = utils.load_wav_to_torch(file)\n",
    "    if sampling_rate != stft_fun.sampling_rate:\n",
    "        raise ValueError(\"{} {} SR doesn't match target {} SR\".format(\n",
    "            sampling_rate, stft_fun.sampling_rate))\n",
    "    audio = audio + torch.rand_like(audio)\n",
    "    audio_norm = audio / hps.data.max_wav_value\n",
    "    audio_norm = audio_norm.unsqueeze(0)\n",
    "    try:\n",
    "        melspec = stft_fun.mel_spectrogram(audio_norm)\n",
    "        melspec = torch.squeeze(melspec, 0)\n",
    "\n",
    "        filename = file.split(\"/\")[-1].split(\".\")[0]\n",
    "        np.save(f\"/run/media/viblab/Markov2/Pras/Thesis/TryMyOwn/hifi-gan/ft_dataset/{filename}.npy\", melspec.cpu().detach().numpy())\n",
    "        shutil.copy(file, f\"/run/media/viblab/Markov2/Pras/Thesis/TryMyOwn/hifi-gan/ft_dataset/{filename}.wav\")\n",
    "    except:\n",
    "        pass"
   ]
  }
 ],
 "metadata": {
  "kernelspec": {
   "display_name": ".env",
   "language": "python",
   "name": "python3"
  },
  "language_info": {
   "codemirror_mode": {
    "name": "ipython",
    "version": 3
   },
   "file_extension": ".py",
   "mimetype": "text/x-python",
   "name": "python",
   "nbconvert_exporter": "python",
   "pygments_lexer": "ipython3",
   "version": "3.8.16"
  },
  "orig_nbformat": 4
 },
 "nbformat": 4,
 "nbformat_minor": 2
}
