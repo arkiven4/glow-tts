{
 "cells": [
  {
   "cell_type": "code",
   "execution_count": 1,
   "metadata": {},
   "outputs": [],
   "source": [
    "from text import text_to_sequence, cmudict\n",
    "from text import cleaners\n",
    "from unidecode import unidecode"
   ]
  },
  {
   "cell_type": "code",
   "execution_count": 2,
   "metadata": {},
   "outputs": [],
   "source": [
    "tst_stn = \"Hello my name is Pras\"\n",
    "tst_stn = \"周末的我，只忙着陪你。\"\n",
    "\n",
    "tst_stn = \" \" + tst_stn.strip() + \" \"\n",
    "text_norm = text_to_sequence(tst_stn.strip(), ['basic_cleaners'])"
   ]
  },
  {
   "cell_type": "code",
   "execution_count": 9,
   "metadata": {},
   "outputs": [
    {
     "data": {
      "text/plain": [
       "11"
      ]
     },
     "execution_count": 9,
     "metadata": {},
     "output_type": "execute_result"
    }
   ],
   "source": [
    "len(text_to_sequence(tst_stn.strip(), ['basic_cleaners']))"
   ]
  },
  {
   "cell_type": "code",
   "execution_count": 8,
   "metadata": {},
   "outputs": [
    {
     "data": {
      "text/plain": [
       "37"
      ]
     },
     "execution_count": 8,
     "metadata": {},
     "output_type": "execute_result"
    }
   ],
   "source": [
    "len(text_to_sequence(unidecode(tst_stn).strip(), ['basic_cleaners']))"
   ]
  },
  {
   "cell_type": "code",
   "execution_count": 10,
   "metadata": {},
   "outputs": [
    {
     "data": {
      "text/plain": [
       "' Zhou Mo De Wo ,Zhi Mang Zhao Pei Ni .  '"
      ]
     },
     "execution_count": 10,
     "metadata": {},
     "output_type": "execute_result"
    }
   ],
   "source": [
    "unidecode(tst_stn)"
   ]
  },
  {
   "cell_type": "code",
   "execution_count": 17,
   "metadata": {},
   "outputs": [
    {
     "data": {
      "text/plain": [
       "'Xi ndemoraetanarananiyoridesu'"
      ]
     },
     "execution_count": 17,
     "metadata": {},
     "output_type": "execute_result"
    }
   ],
   "source": [
    "unidecode(\"喜んでもらえたならなによりです\")"
   ]
  },
  {
   "cell_type": "code",
   "execution_count": null,
   "metadata": {},
   "outputs": [],
   "source": [
    "text = english_cleaners(tst_stn)"
   ]
  },
  {
   "cell_type": "code",
   "execution_count": null,
   "metadata": {},
   "outputs": [],
   "source": [
    "def _clean_text(text, cleaner_names):\n",
    "  for name in cleaner_names:\n",
    "    cleaner = getattr(cleaners, name)\n",
    "    if not cleaner:\n",
    "      raise Exception('Unknown cleaner: %s' % name)\n",
    "    text = cleaner(text)\n",
    "  return text"
   ]
  },
  {
   "cell_type": "code",
   "execution_count": 6,
   "metadata": {},
   "outputs": [
    {
     "data": {
      "text/plain": [
       "[60,\n",
       " 52,\n",
       " 11,\n",
       " 61,\n",
       " 46,\n",
       " 11,\n",
       " 45,\n",
       " 58,\n",
       " 38,\n",
       " 51,\n",
       " 11,\n",
       " 39,\n",
       " 42,\n",
       " 46,\n",
       " 11,\n",
       " 47,\n",
       " 46,\n",
       " 51,\n",
       " 44,\n",
       " 11,\n",
       " 45,\n",
       " 58,\n",
       " 38,\n",
       " 51,\n",
       " 11,\n",
       " 62,\n",
       " 46,\n",
       " 51,\n",
       " 44,\n",
       " 11,\n",
       " 51,\n",
       " 46,\n",
       " 11,\n",
       " 7,\n",
       " 11]"
      ]
     },
     "execution_count": 6,
     "metadata": {},
     "output_type": "execute_result"
    }
   ],
   "source": [
    "text_norm"
   ]
  }
 ],
 "metadata": {
  "kernelspec": {
   "display_name": ".env",
   "language": "python",
   "name": "python3"
  },
  "language_info": {
   "codemirror_mode": {
    "name": "ipython",
    "version": 3
   },
   "file_extension": ".py",
   "mimetype": "text/x-python",
   "name": "python",
   "nbconvert_exporter": "python",
   "pygments_lexer": "ipython3",
   "version": "3.8.16"
  },
  "orig_nbformat": 4
 },
 "nbformat": 4,
 "nbformat_minor": 2
}
